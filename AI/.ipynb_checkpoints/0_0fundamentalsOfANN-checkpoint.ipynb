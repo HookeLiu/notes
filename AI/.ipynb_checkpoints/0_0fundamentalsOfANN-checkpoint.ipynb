{
 "cells": [
  {
   "cell_type": "markdown",
   "metadata": {},
   "source": [
    "# 神经网络学习笔记\n",
    "## 0_0神经网络的思路及原理\n",
    "> 2019-18-Mai 佚之狗 https://github.com/HookeLiu QQ: 616471607"
   ]
  },
  {
   "cell_type": "markdown",
   "metadata": {},
   "source": [
    "* 神经网络的基本单元--`神经元`其实是一种`逻辑回归(Logistic Regression)`模型. 虽然名称叫\"回归\", 但实际上是一种分类算法(更适合做二分类). 它的模型`p(x;θ,b)`函数实际上就是`Sigmoid函数``Y(x)=1/(1+E^-(θx+b))`(Y为决策值/输出值, x为特征值/输入量, θ和b为模型参数)"
   ]
  },
  {
   "cell_type": "code",
   "execution_count": 1,
   "metadata": {},
   "outputs": [
    {
     "data": {
      "text/plain": [
       "<Figure size 640x480 with 1 Axes>"
      ]
     },
     "metadata": {},
     "output_type": "display_data"
    }
   ],
   "source": [
    "# 绘制Sigmoid函数以便观察\n",
    "import numpy as np              # numpy是一个python上的基础数学库, 方便对数组计算\n",
    "import matplotlib.pyplot as plt # matplotlib是一个简单的会图库, 可以方便地函数绘图\n",
    "def sigmoid(x):\n",
    "    # f(x)=1/(1+e^-x), 求导:f'(x) = f(x) * (1 - f(x))\n",
    "    return 1 / ( 1 + np.exp(-x) )\n",
    "def deriv_sigmoid(x):\n",
    "    fx = sigmoid(x)\n",
    "    return fx * (1 - fx)\n",
    "plt.figure()\n",
    "plt.grid(True)\n",
    "x_axis  = np.arange(-6.16471607, 6.1647160, 0.233333)\n",
    "sigPlot = sigmoid(x_axis)\n",
    "dSigPlt = deriv_sigmoid(x_axis)\n",
    "plt.plot(x_axis, sigPlot, marker=\",\", linewidth=1, linestyle=\"-\", color=\"orange\")\n",
    "plt.plot(x_axis, dSigPlt, marker=\".\", linewidth=1, linestyle=\"--\", color=\"green\")\n",
    "plt.show()"
   ]
  },
  {
   "cell_type": "markdown",
   "metadata": {},
   "source": [
    "* 这个函数的图像就是一个定义域为[-∞,∞], 值域为(0,1), 这就相当于一个从任何实数到概率(0%到100%)的转换(Y(x)就是一个概率分布函数), 从而就可以实现对样本数据的二分类. 并且, 数据离中心点越远, 属于某个类别的可能性也就越大.\n",
    "* 这个模型和生物神经细胞的**功能**很相似: 信息输入→模式加工→动作输出, 具体来说就是`数据*权重+偏置`作为输→传递函数作为细胞体处理强度→传输函数作为输出传递到轴突. 输入和权重相当于生物神经网相当于生物神经网络树突的连接强度; 对输入的处理(总和以及激活函数)就相当于生物神经细胞对刺激的动作.对于生物神经细胞来说这个输入通常是神经递质的类型和量,这些递质对细胞膜的刺激会使得膜电位变化并且会累加到轴突,当轴突上的膜电位达到某一程度时细胞体就会向后传递.生物细胞受刺激后发出的信号实际上是密度不同的脉冲, 称为发放率,和PDM(脉冲密度调制)很相似. \n",
    "* 而人工神经网络也是在**功能上**借鉴了生物神经网络: 深度神经网络分层次提取特征并逐层传递; CNN的卷积和池化也是模仿了生物视觉中的感受野与抑制野, 能更好地提取空间频率特征;\n",
    "* 但实际上, 就目前来说, 人工神经网络都是在\"拟合一个函数\", 实际上就是把数学建模或者说特征提取的工作交给神经网络. 比如每两个神经元如果权重互为相反数, 调节权重和偏置就能调节一个“矩形波”, 以“极限”的思想, 无数个“矩形波”可以拟合出任何函数. \n",
    "\n",
    "一个人工神经元实质上的功能就是把输入数据×权重再求和之后加上偏置作为传递函数的输入, 即`out = activFuc( ∑(W.T*X+b) )`"
   ]
  },
  {
   "cell_type": "code",
   "execution_count": 2,
   "metadata": {},
   "outputs": [],
   "source": [
    "def neron(x, w, b):\n",
    "    sum = np.dot(w,x) + b\n",
    "    out = sigmoid(sum)\n",
    "    return {'out':out, 'inSum':sum}"
   ]
  },
  {
   "cell_type": "code",
   "execution_count": 3,
   "metadata": {},
   "outputs": [
    {
     "data": {
      "image/png": "[encoded data removed]",
      "text/plain": [
       "<Figure size 432x288 with 1 Axes>"
      ]
     },
     "metadata": {
      "needs_background": "light"
     },
     "output_type": "display_data"
    }
   ],
   "source": [
    "x = np.array([    # 假设在一个平面上有两类点: 第一类([ [1.0,0.6],[0.8,1.0],[1.2,0.4] ]); 第二类([ [0.0,1.0],[0.4,0.8],[0.8,0.2] ])\n",
    "    [1, 0.6],[0.8, 1.0],[1.2, 0.4],\n",
    "    [0 ,1],[0.4, 0.8],[0.8, 0.2],\n",
    "])\n",
    "l = np.array([    # 感知机标签需要是1和-1, 表示对应点应该在决策边界的上方还是下方\n",
    "     1,  1,  1,\n",
    "    -1, -1, -1,\n",
    "])\n",
    "# 把数据绘制出来方便观察\n",
    "plt.figure()\n",
    "plt.grid(True)\n",
    "for i in range( len(x) ):\n",
    "    if l[i] == 1: \n",
    "        plt.plot(x[i][0], x[i][1], 'ro')\n",
    "    else:\n",
    "        plt.plot(x[i][0], x[i][1], 'bo')\n",
    "plt.show()"
   ]
  },
  {
   "cell_type": "markdown",
   "metadata": {},
   "source": [
    "对于上面的数据集, 通过观察可以看出两种类型的点是可以通过一条直线划分开的(线性可分), 这条直线(决策边界)目测可能是y=-1.2x+1.5, 当然这只是一种可能性, 可能的情况是无数多的. 目测训练可能的得到的结果: w→[1.8, 2.6], b→-2.2 (决策边界可以表示成\"y=(-b-weights[0]*x_axis)/weights[1]\")\n",
    "* 这样的分类问题称为`逻辑回归`, 对于线性可分的简单问题, 比如上面这样对二维空间做逻辑回归的情况, 只需要一个\"神经元\"也就是一个基本感知机就可以实现. 但对于线性不可分的问题以及更高维度空间中的分类就必须使用神经网络了. 必须把感知机连接成网络才能提取足够的特征进行分类.\n",
    "\n"
   ]
  },
  {
   "cell_type": "markdown",
   "metadata": {},
   "source": [
    "* 神经网络之所以能区分那么多的特征, 是因为网络的每一层都在处理不同层次的特征, 要想实现实现每个层次都能\"总结\"上一层的信息, 那就需要使用非线性的激活函数. 因为如果使用线性的话, 全连接的权重就没有层次关系了, 就相当于所有的层次都压缩到了一层, 神经网络处理特征的能力就会下降. 使用非线性激活函数就相当于让每个前一层的输出都逐层嵌套到后一层的激活函数中.\n",
    "* 常用的激活函数有:sigmoid/tanh/relu/elu等, 对于浅层神经网络来说使用什么激活函数的区别都不大.\n",
    "> * sigmoid是把任意实数压缩到(0,1)范围, 输入为0的时候输出是0.5, 所以通常可以表示\"概率\", 也就是能把任意实数映射到概率. 但此函数的导数最大值为1/4,这意味着很容易造成梯度消失; sigmoid是个非常经典的非线性激活函数, 历史悠久, 来源于最大熵和拉格朗日数乘法.\n",
    "> * tanh则是把任意实数压缩至[-1,1],相比sigmoid来说是0均匀分布,可以缓解梯度消失的问题;\n",
    "> * relu是把负数部分取0,正数部分为线性,所以没有梯度消失的问题,但relu的输出非负所以会出现梯度爆炸(即神经元不会再被激活)."
   ]
  },
  {
   "cell_type": "markdown",
   "metadata": {},
   "source": [
    "* 神经网络可以看成一个\"黑盒\", 输入一组数据就会输出一组数据, 为了评价一个模型的\"好坏\"也就是与预期的偏离程度, 就需要定义一个`损失函数`. 定义损失函数并没有一个确切的要求, 通常是根据实际任务需求选择或制定一个合理的函数, 比如SVM(Support Vector Machine, 支持向量机)的损失函数是HL(Hinge Loss, 合页损失函数)`L[y(w.T*x+b)] = Abs[1-y(w.Txb)]`(常用形式是Li = ∑max(0, sj-syi+∆)); 最典型的CEE(Cross Entropy Error,交叉熵误差)`J(θ)=−1/m ∑(i=1,m)( yi*log⁡( hθ(xi) )+(1−yi)*log⁡( 1−hθ(xi) ) )`; 适用于线性回归的MSE(Mean Squared Error, 均方误差)`loss = 1/m ∑(i=1,m) ( (yi−yHeadi)^2 )`等. \n",
    "* 主旨就是定义一个函数用于衡量预测与期望值之间的差异, 并通过训练调整参数使得这个差异最小化(优化). 并且, 通过修正参数使损失函数最小化的常用方法是对各个参数做`梯度下降`. 也就是求出各个参数的梯度(可以简单当成\"参数对损失函数的影响程度及方向\", 通常做法是求损失函数对参数的偏导数), 然后各个参数沿着梯度相反的方向(也就是乘个-1)增加.\n",
    "* 所谓的\"模型好坏\"也可以理解成\"模型的熵\", 熵本身是表示\"不确定程度\". 对于机器学习来说, 一切信息都存在概率分布, 信息熵越大则信息量越大, 这个分布也就越难以确定.交叉熵是信息论的一个概念, 从字面意思上来说是指\"真实分布与非真实分布的交叉\", 描述两个概率分布情况的差异, 可以简单理解成\"算法使用非真实分布预测出的结果与真实分布情况的不确定性\", 数值越小则模型越接近期望. 一般的表达式为`H(p,q) = -∑(i=1,m) ( p(x)*log( q(x) ) )`(其中p代表期望值,q代表预测值).\n",
    "\n",
    "概括来说, 神经网络的作用就是找到一组使得输出接近期望, 可以表达成`argmin[ F(D;θ)=L[ ∑(i=1,m){xi,yi};θ ] + Ω(θ)`(argmin表示参数最小化, F是一个关于传递模型与参数的函数, L是损失函数, Ω()是正则项 )"
   ]
  },
  {
   "cell_type": "code",
   "execution_count": 4,
   "metadata": {},
   "outputs": [],
   "source": [
    "def loss_HL(lable, inSum): \n",
    "    # 感知机是一种二分类线性分类模型, 可以使用合页损失函数.Li = max(0, -lable*(ax+b)), 其中lable(ax+b)的绝对值代表样本到决策边界的距离 \n",
    "    # 当样本点(xi,yi)被正确分类时且yi(a*xi+b)大于1时损失为0; 否则就是偏离程度(1-yi(ax+b))\n",
    "    return np.maximum(0, (-1 * lable * inSum) )\n",
    "def loss_MSE(pred, lable):\n",
    "    # 均方误差通常是用于衡量两组数据之间的平均差异情况\n",
    "    return np.mean( (lable - pred) ** 2  )"
   ]
  },
  {
   "cell_type": "code",
   "execution_count": 5,
   "metadata": {},
   "outputs": [
    {
     "name": "stdout",
     "output_type": "stream",
     "text": [
      "[1.  0.6] → -1.0 期望值:  1  loss: 0.38352639300000013\n",
      "[0.8 1. ] → 1.0 期望值:  1  loss: 0.0\n",
      "[1.2 0.4] → -1.0 期望值:  1  loss: 1.294636393\n",
      "[0. 1.] → 1.0 期望值:  -1  loss: 2.8386916070000003\n",
      "[0.4 0.8] → 1.0 期望值:  -1  loss: 1.4609156070000002\n",
      "[0.8 0.2] → -1.0 期望值:  -1  loss: 0.0\n"
     ]
    }
   ],
   "source": [
    "# 损失函数衡量预测与预期之间的差异, 损失值越小说明模型越理想\n",
    "# 随便设定一个初始值(初始化模型)\n",
    "w = np.array([ -2.33333, 2.22222 ])\n",
    "b = 0.616471607\n",
    "\n",
    "# 看看输出的情况\n",
    "for i in range(x.shape[0]):\n",
    "    otpt = neron(x[i], w, b)\n",
    "    Yout = np.sign( otpt.get(\"inSum\") )\n",
    "    loss = loss_HL( l[i], otpt.get(\"inSum\") )\n",
    "    print( x[i], '→', Yout, '期望值: ', l[i] , ' loss:', loss)"
   ]
  },
  {
   "cell_type": "code",
   "execution_count": 6,
   "metadata": {},
   "outputs": [
    {
     "data": {
      "image/png": "[encoded data removed]",
      "text/plain": [
       "<Figure size 432x288 with 1 Axes>"
      ]
     },
     "metadata": {
      "needs_background": "light"
     },
     "output_type": "display_data"
    }
   ],
   "source": [
    "# 那么这条初始的决策边界可以表示成\"y=(-b-w[0]*x_axis)/w[1]\"\n",
    "plt.figure()\n",
    "plt.grid(True)\n",
    "for i in range( len(x) ):\n",
    "    if l[i] == 1: \n",
    "        plt.plot(x[i][0], x[i][1], 'ro')\n",
    "    else:\n",
    "        plt.plot(x[i][0], x[i][1], 'bo')\n",
    "x_axis = np.arange(0.233333, 1.33333, 0.233333)\n",
    "deline = (-b-1*w[0]*x_axis)/w[1]\n",
    "plt.plot(x_axis, deline, marker=\"*\", linewidth=2, linestyle=\"--\", color=\"orange\")\n",
    "plt.show()"
   ]
  },
  {
   "cell_type": "markdown",
   "metadata": {},
   "source": [
    "观察上面的预测输出情况及决策边界, 可以看出模型把y=(-b-w[0]*x_axis)/w[1]下方的点分类为了\"-1\"而上方的是\"1\", 但是实际上决策边界的上方存在2个应该分到1的, 而损失函数给出了它们到决策边界的距离."
   ]
  },
  {
   "cell_type": "markdown",
   "metadata": {},
   "source": [
    "* 为了\"训练网络\", 也就是根据输入和标签调整参数使得网络参数最接近最优解, 就需要通过优化算法对损失函数进行优化. 最常用的优化方法是`梯度下降法(Gradient Descent)`, 它有很多的变体(BGD, SGD, MBGD等). 一些情况下使用`牛顿法`也是不错的.\n",
    "\n",
    "* 其实**梯度相当于中学数学里`导数`概念的一个扩展**, 也就是说, 当只有一个参数(一元, 一个维度)的时候梯度的计算和导数的计算一致, 可以把梯度理解为求一个\"多维空间\"中某个参数在某点变化率最大的向量, 其大小为导数值(其实中学数学里的导数就是省略了方向的一元(一维空间)函数的梯度, 因为一元函数的梯度方向和自变量轴平行, 方向由正负号确定. 高中所学的导数可以近似视为\"一元偏导数\". 需要区分的是**梯度是矢量而某点的导数是个常量**). 它沿\"最陡峭\"的方向指向更大值, 而梯度下降就是让这个参数往梯度的反方向更新. 在一维曲线上过一点反应这个曲线变化率的是切线, 在高维空间中这样的直线则有很多条, 所以需要求每一个维度的`偏导数`以选择每一个维度的\"切线\". 在这里一个权重就是一个维度且一个偏置也是一个维度. 求梯度的操作和求偏导数的操作相同.\n",
    "\n",
    "* 偏导数, 字面意思上就是\"偏向于某个变量的导数\", 就是把非这个变量的部分视为常数进行计算.\n",
    "因为神经网络是逐层的, 所以损失函数总是可以对每个参数连续偏导的, 也就是说损失函数中某一个靠前的运算门可以根据其后一层的梯度来计算自身的梯度, 也叫链式求导, 这个过程叫反向传播. 用`链式求导法, z = f[u(x,y),v(x,y)]在(x,y)处的偏导数: ∂z/∂x = ∂f/∂u * ∂u/∂x + ∂f/∂v * ∂v/∂x ; ∂z/∂y = ∂f/∂u * ∂u/∂y + ∂f/∂v * ∂v/∂y`( 设u=u(x,y),v=v(xy),(x,y)处存在偏导数且z = f(u,v)在(u,v)处具有连续偏导数 )\n",
    "\n",
    "反向传播的操作可以简单理解成\"把正向传播的输出当做反向传播输入, 反向地依次传入每一个门的导函数, 最终求出损失函数对每一个参数的偏导数\"\n",
    "\n",
    "* 梯度下降表示为`θj =θj−α( ∂J(θ)/(∂θj) )`, 含义: 某个权重的更新是自身减去一个损失函数对权重偏导数的常数(`学习率`)倍, 即`某个权重的新值 = 旧值 - 学习速率*(损失函数对旧值的偏导数)`偏导数∂J(θ)/∂θj的定义是`1/m (i=1,m)〖(hθ(xi)−yi) xji 〗` 乘上一个常数项(0到1之间)的意义是在于控制更新的最大步幅, 防止更新参数的时候越过最优解而不能收敛(因为每一步迭代时参数的变化量难以确定, 如果正处于损失函数变化去势很大的点, 参数的变化也会很大, 过大的变化就无法到达最小值点). \n",
    "\n",
    "训练一个模型通常的套路是: \n",
    "> 1. 初始化权重和偏置(随机或者导入)\n",
    "> 2. 将数据前向传播\n",
    "> 3. 根据输出与预期的差异计算误差(损失)\n",
    "> > * 误差可接受→计算下一组数据\n",
    "> > * 误差过大→按梯度下降( θ-= LR*(∂J(θ)/(∂θj) )更新参数 (优化器)\n",
    "> 4. 判断上一次迭代过程中是否更新了参数\n",
    "> > * 更新了→继续迭代\n",
    "> > * 没有更新(说明所有预测值和期望值的误差都可接受)→跳出, 结束训练"
   ]
  },
  {
   "cell_type": "code",
   "execution_count": 7,
   "metadata": {},
   "outputs": [
    {
     "name": "stdout",
     "output_type": "stream",
     "text": [
      "迭代0次后:\n"
     ]
    },
    {
     "data": {
      "image/png": "[encoded data removed]",
      "text/plain": [
       "<Figure size 432x288 with 1 Axes>"
      ]
     },
     "metadata": {
      "needs_background": "light"
     },
     "output_type": "display_data"
    },
    {
     "name": "stdout",
     "output_type": "stream",
     "text": [
      "迭代10次后:\n"
     ]
    },
    {
     "data": {
      "image/png": "[encoded data removed]",
      "text/plain": [
       "<Figure size 432x288 with 1 Axes>"
      ]
     },
     "metadata": {
      "needs_background": "light"
     },
     "output_type": "display_data"
    },
    {
     "name": "stdout",
     "output_type": "stream",
     "text": [
      "迭代20次后:\n"
     ]
    },
    {
     "data": {
      "image/png": "[encoded data removed]",
      "text/plain": [
       "<Figure size 432x288 with 1 Axes>"
      ]
     },
     "metadata": {
      "needs_background": "light"
     },
     "output_type": "display_data"
    },
    {
     "name": "stdout",
     "output_type": "stream",
     "text": [
      "迭代30次后:\n"
     ]
    },
    {
     "data": {
      "image/png": "[encoded data removed]",
      "text/plain": [
       "<Figure size 432x288 with 1 Axes>"
      ]
     },
     "metadata": {
      "needs_background": "light"
     },
     "output_type": "display_data"
    },
    {
     "name": "stdout",
     "output_type": "stream",
     "text": [
      "迭代40次后:\n"
     ]
    },
    {
     "data": {
      "image/png": "[encoded data removed]",
      "text/plain": [
       "<Figure size 432x288 with 1 Axes>"
      ]
     },
     "metadata": {
      "needs_background": "light"
     },
     "output_type": "display_data"
    }
   ],
   "source": [
    "def train(w, b, data, lable, epochs = 100, LR = 0.0616471607, inDebugMode = False):\n",
    "    # LR, Learn Rate, 超参数_学习率, 选值通常很小, 根据程序员的经验和模型表现进行调试. 也常用随着LR随着epoch增加而减小的方法来改善收敛.\n",
    "    predcs = np.zeros(np.shape(data)[0])                      # 记录模型对整个数据集的输出, 以便求总体平均误差\n",
    "    select = -1                                               # 记录被错误分类数据的索引, 只针对分错的数据更新参数\n",
    "    count  = 0\n",
    "    for epoch in range(epochs):\n",
    "        for idx in range( len(data) ):                        # 依次对数据集中的每一个数据迭代一次, 总共迭代len(data)*epoch次\n",
    "            # 按照上述常规套路的4步中的后3步训练感知机\n",
    "            inSum= neron(data[idx], w, b).get(\"inSum\")\n",
    "            pred = np.sign( inSum )                           # 输入数据预测结果\n",
    "            #print(\"*----*debug:\", idx , inSum, lable[i] ,\"loss_HL:\",loss_HL(lable[idx], inSum))\n",
    "            if loss_HL(lable[idx], inSum) > 0:                  # 根据误差判断是否需要训练\n",
    "                select = idx\n",
    "                # 误差过大:\n",
    "                    # 求梯度: ∂Loss/∂wi =-1*(lable-pred)*xi; ∂Loss/∂b = -1*lable\n",
    "                dLoss_dW = -1 * lable[select] * data[select]\n",
    "                dLoss_dB = -1 * lable[select]\n",
    "                    # 梯度下降(更新参数)\n",
    "                w -= LR * dLoss_dW\n",
    "                b -= LR * dLoss_dB\n",
    "                count += 1\n",
    "        if select == -1:\n",
    "            break                                            # 不存在误分点就不需要训练\n",
    "        if (not inDebugMode):\n",
    "            if epoch % 10 == 0:                              # 每迭代10次输出当前状态并减小一点学习率\n",
    "                for ds in range( len( data ) ) :\n",
    "                    predcs[ds] = np.sign( inSum )\n",
    "                print( \"迭代第%dCycle，Loss%.5f\" %( epoch+1, loss_MSE(predcs, lable) ) ) \n",
    "                if LR > 0.01:\n",
    "                    LR -= 0.0002139223150\n",
    "            print( \"对%d个Sample(s)共更新了%d次，共迭代%depochs\" %( np.shape(data)[0], count, ( np.shape(data)[0] ) * (epoch+1) ) )\n",
    "    return [w,b]\n",
    "# 训练, 并检查一下训练的成效\n",
    "# 这里为了方便可视化观察效果, 所以每次训练只迭代10次, 每次训练画一个图像\n",
    "x_axis = np.arange(0.233333, 1.33333, 0.233333)\n",
    "for ct in range(5):\n",
    "    print( \"迭代%d次后:\" %(ct*10) )\n",
    "    plt.figure()\n",
    "    plt.grid(True)\n",
    "    for i in range( len(x) ):\n",
    "        if l[i] == 1: \n",
    "            plt.plot(x[i][0], x[i][1], 'ro')\n",
    "        else:\n",
    "            plt.plot(x[i][0], x[i][1], 'bo')\n",
    "    deline = (-1 * b -1 * w[0] * x_axis)/w[1]\n",
    "    plt.plot(x_axis, deline, marker=\"*\", linewidth=2, linestyle=\"--\", color=\"orange\")\n",
    "    plt.show()\n",
    "    \n",
    "    parameters = train(w, b, x, l, 10, 0.08, True)\n",
    "    w, b = parameters[0], parameters[1]\n",
    "    "
   ]
  },
  {
   "cell_type": "code",
   "execution_count": 30,
   "metadata": {},
   "outputs": [
    {
     "data": {
      "image/png": "[encoded data removed]",
      "text/plain": [
       "<Figure size 432x288 with 1 Axes>"
      ]
     },
     "metadata": {
      "needs_background": "light"
     },
     "output_type": "display_data"
    }
   ],
   "source": [
    "# 随意做一点测试数据\n",
    "test = np.array([\n",
    "    [0.35551627, 0.60603702],[0.1423022 , 0.38141842],[0.28430264, 0.99511815],\n",
    "    [0.71792289, 0.96706273],[0.15166646, 0.64173781],[0.86609846, 0.13531371],\n",
    "    [0.72533355, 0.92459828],[0.50918136, 0.60259995],\n",
    "])\n",
    "plt.figure()\n",
    "plt.grid(True)\n",
    "for i in range( len(test) ):\n",
    "    plt.plot(test[i][0], test[i][1], 'ro')\n",
    "plt.show()"
   ]
  },
  {
   "cell_type": "code",
   "execution_count": 20,
   "metadata": {},
   "outputs": [
    {
     "name": "stdout",
     "output_type": "stream",
     "text": [
      "[0.35551627 0.60603702] → -1.0\n",
      "[0.1423022  0.38141842] → -1.0\n",
      "[0.28430264 0.99511815] → -1.0\n",
      "[0.71792289 0.96706273] → 1.0\n",
      "[0.15166646 0.64173781] → -1.0\n",
      "[0.86609846 0.13531371] → -1.0\n",
      "[0.72533355 0.92459828] → 1.0\n",
      "[0.50918136 0.60259995] → -1.0\n"
     ]
    }
   ],
   "source": [
    "for i in range(test.shape[0]):\n",
    "    otpt = neron(test[i], w, b)\n",
    "    Yout = np.sign( otpt.get(\"inSum\") )\n",
    "    print( test[i], '→', Yout)"
   ]
  },
  {
   "cell_type": "code",
   "execution_count": null,
   "metadata": {},
   "outputs": [],
   "source": []
  }
 ],
 "metadata": {
  "kernelspec": {
   "display_name": "Python 3",
   "language": "python",
   "name": "python3"
  },
  "language_info": {
   "codemirror_mode": {
    "name": "ipython",
    "version": 3
   },
   "file_extension": ".py",
   "mimetype": "text/x-python",
   "name": "python",
   "nbconvert_exporter": "python",
   "pygments_lexer": "ipython3",
   "version": "3.7.3"
  }
 },
 "nbformat": 4,
 "nbformat_minor": 2
}
